{
 "cells": [
  {
   "cell_type": "markdown",
   "metadata": {},
   "source": [
    "# Point Distribution Model"
   ]
  },
  {
   "cell_type": "markdown",
   "metadata": {},
   "source": [
    "A Point Distribution Model (PDM) is a statistical parametric model of the shape of the deformable obect, which is an essential part for many state-of-the-art deformable models.\n",
    "Ref: https://www.menpo.org/menpofit/pdm.html\n",
    "\n",
    "Data: you can download some facial annotated databases from the IBUG website:\n",
    "http://ibug.doc.ic.ac.uk/resources/facial-point-annotations/\n",
    "for example LFPW database (\"in-the-wild\", 811 and 224 training and testing images, respectively). Note that you have to enter your details (name, affiliation, email) before download."
   ]
  },
  {
   "cell_type": "markdown",
   "metadata": {},
   "source": [
    "### load all the shapes of LFPW trainset"
   ]
  },
  {
   "cell_type": "code",
   "execution_count": 18,
   "metadata": {},
   "outputs": [
    {
     "name": "stdout",
     "output_type": "stream",
     "text": [
      "Found 188 assets, index the returned LazyList to import.\n",
      "[====================] 100% (188/188) - done.                                   \n"
     ]
    }
   ],
   "source": [
    "\n",
    "from pathlib import Path\n",
    "import menpo.io as mio\n",
    "from menpo.visualize import print_progress\n",
    "\n",
    "path_to_lfpw = Path('../Data/lfpw/trainset/')\n",
    "\n",
    "training_shapes = []\n",
    "for lg in print_progress(mio.import_landmark_files(path_to_lfpw / '*.pts', verbose=True)):\n",
    "  # print(lg)\n",
    "  training_shapes.append(lg['PTS'])"
   ]
  },
  {
   "cell_type": "code",
   "execution_count": 19,
   "metadata": {},
   "outputs": [
    {
     "data": {
      "application/vnd.jupyter.widget-view+json": {
       "model_id": "95c653225e3e45b78470d228d1fe66db",
       "version_major": 2,
       "version_minor": 0
      },
      "text/plain": [
       "Box(children=(VBox(box_style='warning', children=(HBox(children=(LogoWidget(children=(Image(value=b'\\x89PNG\\r\\…"
      ]
     },
     "metadata": {},
     "output_type": "display_data"
    }
   ],
   "source": [
    "# visualization\n",
    "%matplotlib inline\n",
    "from menpowidgets import *\n",
    "view_widget(training_shapes)"
   ]
  },
  {
   "cell_type": "markdown",
   "metadata": {},
   "source": [
    "### construction of a PDM\n",
    "The construction of a PDM commonly involves the following steps:\n",
    "1. Align the set of training shapes using Generalized Procrustes Analysis, which will remove the similarity transform components (scaling, in-plane rotation, translation) from the shapes.\n",
    "2. Apply Principal Component Analysis (PCA) on the aligned shapes. \n",
    "3. Further augment the acquired subspace with four eigenvectors that control the global similarity transform of the object, re-orthonormalize [1] and keep the first nn eigenvectors. \n",
    "The above procedure can be very easily performed using menpofit's OrthoPDM class as:"
   ]
  },
  {
   "cell_type": "code",
   "execution_count": 48,
   "metadata": {},
   "outputs": [
    {
     "name": "stdout",
     "output_type": "stream",
     "text": [
      "Point Distribution Model with Similarity Transform \n",
      " - total # components:      136\n",
      " - # similarity components: 4\n",
      " - # PCA components:        132\n",
      " - # active components:     4 + 132 = 136\n",
      " - centred:                 True\n",
      " - # features:              136\n",
      " - kept variance:           3.2e+04  100.0%\n",
      " - noise variance:          0.023  0.0%\n",
      " - components shape:        (132, 136)\n",
      "\n"
     ]
    }
   ],
   "source": [
    "from menpofit.modelinstance import OrthoPDM\n",
    "shape_model = OrthoPDM(training_shapes, max_n_components=None)\n",
    "\n",
    "# Pring the information about the PCA model that exists in the PDM\n",
    "print(shape_model)"
   ]
  },
  {
   "cell_type": "markdown",
   "metadata": {},
   "source": [
    "### Active Components\n",
    "Note that in the previous printing message all the available components are active. This means that when using the model for any kind of operations such as projection or reconstruction, then the whole subspace will be used. Normally, you need to use less components in order to remove the noise that is captured by the last components. This can be done by providing the percentage of variance to be kept as:"
   ]
  },
  {
   "cell_type": "code",
   "execution_count": 21,
   "metadata": {},
   "outputs": [],
   "source": [
    "shape_model.n_active_components = 0.95"
   ]
  },
  {
   "cell_type": "markdown",
   "metadata": {},
   "source": [
    "### Generating New Instances\n",
    "You can generate a new shape instance using only the similarity model (which will naturally apply a similarity transform on the mean shape)"
   ]
  },
  {
   "cell_type": "code",
   "execution_count": 22,
   "metadata": {},
   "outputs": [
    {
     "data": {
      "text/plain": [
       "<menpo.visualize.viewmatplotlib.MatplotlibPointGraphViewer2d at 0x7f4018f79370>"
      ]
     },
     "execution_count": 22,
     "metadata": {},
     "output_type": "execute_result"
    },
    {
     "data": {
      "image/png": "[encoded data removed]",
      "text/plain": [
       "<Figure size 504x504 with 1 Axes>"
      ]
     },
     "metadata": {},
     "output_type": "display_data"
    }
   ],
   "source": [
    "instance = shape_model.similarity_model.instance([100., -300., 0., 0.]) # the input vector is the weights of the model.\n",
    "instance.view(render_axes=False)"
   ]
  },
  {
   "cell_type": "markdown",
   "metadata": {},
   "source": [
    "Similarly, a new instance using only the PCA components can be generated as"
   ]
  },
  {
   "cell_type": "code",
   "execution_count": 23,
   "metadata": {},
   "outputs": [
    {
     "data": {
      "text/plain": [
       "<menpo.visualize.viewmatplotlib.MatplotlibPointGraphViewer2d at 0x7f4018e3c370>"
      ]
     },
     "execution_count": 23,
     "metadata": {},
     "output_type": "execute_result"
    },
    {
     "data": {
      "image/png": "[encoded data removed]",
      "text/plain": [
       "<Figure size 504x504 with 1 Axes>"
      ]
     },
     "metadata": {},
     "output_type": "display_data"
    }
   ],
   "source": [
    "instance = shape_model.model.instance([2., -2., 2., 1.5], normalized_weights=True) # the input vector is the weights of the model.\n",
    "instance.view(render_axes=False)"
   ]
  },
  {
   "cell_type": "markdown",
   "metadata": {},
   "source": [
    "Note that in this case, the weights that are provided are normalized with respect to the corresponding eigenvalues.\n",
    "A combined instance using all the components can be generated by using the from_vector_inplace() method as"
   ]
  },
  {
   "cell_type": "code",
   "execution_count": 24,
   "metadata": {},
   "outputs": [
    {
     "data": {
      "image/png": "[encoded data removed]",
      "text/plain": [
       "<Figure size 504x504 with 1 Axes>"
      ]
     },
     "metadata": {},
     "output_type": "display_data"
    }
   ],
   "source": [
    "params = [100., -300., 0., 0., 140., -100., 15., 5.] # the weights of the model.\n",
    "shape_model.from_vector(params).target.view(render_axes=False)"
   ]
  },
  {
   "cell_type": "markdown",
   "metadata": {},
   "source": [
    "### Visualization\n",
    "The PCA components of the OrthoPDM can be explored using an interactive widget as:"
   ]
  },
  {
   "cell_type": "code",
   "execution_count": 10,
   "metadata": {},
   "outputs": [
    {
     "data": {
      "application/vnd.jupyter.widget-view+json": {
       "model_id": "4e4a125ccb6b419ab3d8c8ed492752c8",
       "version_major": 2,
       "version_minor": 0
      },
      "text/plain": [
       "Box(children=(VBox(box_style='warning', children=(LogoWidget(children=(Image(value=b'\\x89PNG\\r\\n\\x1a\\n\\x00\\x00…"
      ]
     },
     "metadata": {},
     "output_type": "display_data"
    }
   ],
   "source": [
    "from menpowidgets import *\n",
    "view_widget(shape_model.model)"
   ]
  },
  {
   "cell_type": "markdown",
   "metadata": {},
   "source": [
    "### Projection and Reconstruction\n",
    "OrthoPDM makes it very easy to reconstruct a shape instance by setting its target. Let's load Einstein's shape, reconstruct it using the active components (similarity and PCA) and visualize the result:"
   ]
  },
  {
   "cell_type": "code",
   "execution_count": 25,
   "metadata": {},
   "outputs": [
    {
     "name": "stdout",
     "output_type": "stream",
     "text": [
      "Weights: [-136.84485262  -73.98151267   -7.81833933  -34.73137295  -21.15735522\n",
      "  -47.44280671  -11.9054354     3.48407082   21.22131088   36.5892004\n",
      "    7.89683819  -16.83138234    6.90658576]\n"
     ]
    }
   ],
   "source": [
    "import matplotlib.pyplot as plt\n",
    "from menpo.transform import AlignmentAffine\n",
    "\n",
    "# Import shape and reconstruct\n",
    "shape = mio.import_builtin_asset.einstein_pts()['PTS']\n",
    "# shape_model.set_target(shape)\n",
    "\n",
    "# Find the affine transform that normalizes the shape\n",
    "# with respect to the mean shape\n",
    "transform = AlignmentAffine(shape, shape_model.model.mean())\n",
    "\n",
    "# Normalize shape and project it\n",
    "normalized_shape = transform.apply(shape)\n",
    "weights = shape_model.model.project(normalized_shape)\n",
    "print(\"Weights: {}\".format(weights))\n",
    "\n",
    "# Reconstruct the normalized shape\n",
    "reconstructed_normalized_shape = shape_model.model.instance(weights)\n",
    "\n",
    "# Apply the pseudoinverse of the affine tansform\n",
    "reconstructed_shape = transform.pseudoinverse().apply(reconstructed_normalized_shape)"
   ]
  },
  {
   "cell_type": "code",
   "execution_count": 47,
   "metadata": {},
   "outputs": [
    {
     "data": {
      "text/plain": [
       "Text(0.5, 1.0, 'Reconstructed shape')"
      ]
     },
     "execution_count": 47,
     "metadata": {},
     "output_type": "execute_result"
    },
    {
     "data": {
      "image/png": "[encoded data removed]",
      "text/plain": [
       "<Figure size 504x504 with 2 Axes>"
      ]
     },
     "metadata": {},
     "output_type": "display_data"
    }
   ],
   "source": [
    "# Visualize\n",
    "plt.subplot(121)\n",
    "shape.view(render_axes=False, axes_x_limits=0.01, axes_y_limits=0.01)\n",
    "plt.gca().set_title('Original shape', fontsize=20)\n",
    "\n",
    "plt.subplot(122)\n",
    "reconstructed_shape.view(render_axes=False, axes_x_limits=0.01, axes_y_limits=0.01)\n",
    "plt.gca().set_title('Reconstructed shape', fontsize=20)"
   ]
  }
 ],
 "metadata": {
  "kernelspec": {
   "display_name": "Python 3.9.12 ('virt_course')",
   "language": "python",
   "name": "python3"
  },
  "language_info": {
   "codemirror_mode": {
    "name": "ipython",
    "version": 3
   },
   "file_extension": ".py",
   "mimetype": "text/x-python",
   "name": "python",
   "nbconvert_exporter": "python",
   "pygments_lexer": "ipython3",
   "version": "3.9.12"
  },
  "orig_nbformat": 4,
  "vscode": {
   "interpreter": {
    "hash": "bf547914e6caf67093a81299ccc3b22ce9a317d204a1e61f868d4ed619cac888"
   }
  }
 },
 "nbformat": 4,
 "nbformat_minor": 2
}
